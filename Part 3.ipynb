{
 "cells": [
  {
   "cell_type": "markdown",
   "id": "594f1683",
   "metadata": {},
   "source": [
    "# Part 3 - Pinecone VectorDB and RAG\n"
   ]
  },
  {
   "cell_type": "markdown",
   "id": "b08c20df",
   "metadata": {},
   "source": [
    "##### Imports"
   ]
  },
  {
   "cell_type": "code",
   "execution_count": 78,
   "id": "dd27c087",
   "metadata": {
    "slideshow": {
     "slide_type": "skip"
    }
   },
   "outputs": [],
   "source": [
    "from sentence_transformers import SentenceTransformer\n",
    "from datasets import load_dataset\n",
    "from pinecone import Pinecone, ServerlessSpec\n",
    "import os\n",
    "from tqdm import tqdm\n",
    "import cohere\n",
    "import numpy as np\n",
    "import warnings\n",
    "from IPython.display import display\n",
    "import matplotlib.pyplot as plt\n",
    "import time\n",
    "warnings.filterwarnings(\"ignore\")"
   ]
  },
  {
   "cell_type": "markdown",
   "id": "920b3551",
   "metadata": {
    "slideshow": {
     "slide_type": "slide"
    }
   },
   "source": [
    "##### APIs"
   ]
  },
  {
   "cell_type": "code",
   "execution_count": 74,
   "id": "33e6f5b3",
   "metadata": {
    "slideshow": {
     "slide_type": "fragment"
    }
   },
   "outputs": [],
   "source": [
    "from api_keys import PINECONE_API_KEY, COHERE_API_KEY"
   ]
  },
  {
   "cell_type": "markdown",
   "id": "b594ff33",
   "metadata": {},
   "source": [
    "##### LLM"
   ]
  },
  {
   "cell_type": "code",
   "execution_count": 76,
   "id": "9d558650",
   "metadata": {
    "slideshow": {
     "slide_type": "subslide"
    }
   },
   "outputs": [],
   "source": [
    "EMBEDDING_MODEL = 'all-MiniLM-L6-v2'\n",
    "model = SentenceTransformer(EMBEDDING_MODEL)\n",
    "co = cohere.Client(api_key=COHERE_API_KEY)"
   ]
  },
  {
   "cell_type": "markdown",
   "id": "0a3d0926",
   "metadata": {},
   "source": [
    "### 1 - Dataset\n",
    "\n",
    "We selected the SQuAD dataset for our project. The dataset is a collection of question-answer pairs, where the questions are based on a set of Wikipedia articles. \n",
    "\n",
    "We will show the original LLM preforms poorly in some cases, which can be improved by using RAG."
   ]
  },
  {
   "cell_type": "code",
   "execution_count": 4,
   "id": "3bff82e2",
   "metadata": {
    "slideshow": {
     "slide_type": "subslide"
    }
   },
   "outputs": [
    {
     "name": "stdout",
     "output_type": "stream",
     "text": [
      "Loading and embedding the dataset\n",
      "Done!\n"
     ]
    }
   ],
   "source": [
    "DATASET_NAME = 'squad'\n",
    "\n",
    "print(\"Loading and embedding the dataset\")\n",
    "dataset = load_dataset(DATASET_NAME)\n",
    "print(\"Done!\")"
   ]
  },
  {
   "cell_type": "markdown",
   "id": "aa1254db",
   "metadata": {},
   "source": [
    "##### Preprocessing"
   ]
  },
  {
   "cell_type": "code",
   "execution_count": 6,
   "id": "16a87498",
   "metadata": {},
   "outputs": [
    {
     "data": {
      "text/plain": [
       "Dataset({\n",
       "    features: ['id', 'title', 'context', 'question', 'answers'],\n",
       "    num_rows: 87599\n",
       "})"
      ]
     },
     "execution_count": 6,
     "metadata": {},
     "output_type": "execute_result"
    }
   ],
   "source": [
    "train_data = dataset['train']\n",
    "val_data = dataset['validation']\n",
    "\n",
    "# show the columns:\n",
    "train_data"
   ]
  },
  {
   "cell_type": "code",
   "execution_count": 7,
   "id": "ae22fbdd",
   "metadata": {},
   "outputs": [
    {
     "name": "stdout",
     "output_type": "stream",
     "text": [
      "Number of documents: 20958\n",
      "Number of document embeddings: 20958\n"
     ]
    }
   ],
   "source": [
    "# collect all the documents from the corpus:\n",
    "documents = train_data['context'].copy()\n",
    "documents.extend(val_data['context'])\n",
    "\n",
    "# remove identical documents (multiple questions can refer to the same context):\n",
    "documents = list(set(documents))\n",
    "print(f\"Number of documents: {len(documents)}\")\n",
    "\n",
    "# embed the documents\n",
    "document_embeddings = model.encode(documents)\n",
    "print(f\"Number of document embeddings: {len(document_embeddings)}\")"
   ]
  },
  {
   "cell_type": "code",
   "execution_count": 9,
   "id": "8f1e83d2",
   "metadata": {
    "slideshow": {
     "slide_type": "fragment"
    }
   },
   "outputs": [
    {
     "name": "stdout",
     "output_type": "stream",
     "text": [
      "The embeddings shape: (20958, 384)\n"
     ]
    }
   ],
   "source": [
    "emb_shape = document_embeddings.shape\n",
    "print(f\"The embeddings shape: {emb_shape}\")"
   ]
  },
  {
   "cell_type": "markdown",
   "id": "017620e5",
   "metadata": {},
   "source": [
    "##### Chunking"
   ]
  },
  {
   "cell_type": "markdown",
   "id": "5b50a69d",
   "metadata": {},
   "source": [
    "Lets explore the lengths of the documents in the dataset:"
   ]
  },
  {
   "cell_type": "code",
   "execution_count": 73,
   "id": "e3dedb89",
   "metadata": {},
   "outputs": [
    {
     "name": "stdout",
     "output_type": "stream",
     "text": [
      "The maximum length of a document: 653 words\n",
      "Average length of a document: 117.24706555969081 words\n"
     ]
    }
   ],
   "source": [
    "# max length of document:\n",
    "max_len = max([len(doc.split()) for doc in documents])\n",
    "print(f\"The maximum length of a document: {max_len} words\")\n",
    "print(f\"Average length of a document: {np.mean([len(doc.split()) for doc in documents])} words\")"
   ]
  },
  {
   "cell_type": "code",
   "execution_count": 60,
   "id": "fa702f5a",
   "metadata": {},
   "outputs": [
    {
     "data": {
      "image/png": "[encoded data removed]",
      "text/plain": [
       "<Figure size 640x480 with 1 Axes>"
      ]
     },
     "metadata": {},
     "output_type": "display_data"
    }
   ],
   "source": [
    "plt.hist([len(doc.split()) for doc in documents], bins=50)\n",
    "plt.xlabel(\"Number of words\")\n",
    "plt.ylabel(\"Number of documents\")\n",
    "plt.title(\"Histogram of document lengths\")\n",
    "plt.show()"
   ]
  },
  {
   "cell_type": "markdown",
   "id": "7823b71f",
   "metadata": {},
   "source": [
    "These are for the most part very short documents (for reference, a paragraph is usually 100-200 words), with the largest outliers being ~600 words at most. Because of this, we thought chunking might cause more loss of information than gain in noise reduction.\n",
    "Furthermore, we checked that the largest document and query in the dataset are well within the limits of the model, so we will not encounter any issues with the model's input size.\n",
    "\n",
    "Therefore, we chose not to chunk the documents, as answered in the forum that we could."
   ]
  },
  {
   "cell_type": "markdown",
   "id": "943c469e",
   "metadata": {},
   "source": [
    "### 2 - Pinecone Vector Database"
   ]
  },
  {
   "cell_type": "code",
   "execution_count": 10,
   "id": "de149555",
   "metadata": {
    "slideshow": {
     "slide_type": "subslide"
    }
   },
   "outputs": [],
   "source": [
    "from pinecone import Pinecone, ServerlessSpec\n",
    "\n",
    "def create_pinecone_index(\n",
    "        index_name: str,\n",
    "        dimension: int,\n",
    "        metric: str = 'cosine', # assume standard cosine similarity\n",
    "):\n",
    "    \"\"\"\n",
    "    Create a pinecone index if it does not exist\n",
    "    Args:\n",
    "        index_name: The name of the index\n",
    "        dimension: The dimension of the index\n",
    "        metric: The metric to use for the index\n",
    "    Returns:\n",
    "        Pinecone: A pinecone object which can later be used for upserting vectors and connecting to VectorDBs\n",
    "    \"\"\"\n",
    "\n",
    "    print(\"Creating a Pinecone index...\")\n",
    "    pc = Pinecone(api_key=PINECONE_API_KEY)\n",
    "    existing_indexes = [index_info[\"name\"] for index_info in pc.list_indexes()]\n",
    "\n",
    "    if index_name not in existing_indexes:\n",
    "        pc.create_index(\n",
    "            name=index_name,\n",
    "            dimension=dimension,\n",
    "            metric=metric,\n",
    "            spec=ServerlessSpec(\n",
    "                cloud=\"aws\",\n",
    "                region=\"us-east-1\"\n",
    "            )\n",
    "        )\n",
    "    print(\"Done!\")\n",
    "    return pc"
   ]
  },
  {
   "cell_type": "code",
   "execution_count": 11,
   "id": "e6e59ce9",
   "metadata": {
    "slideshow": {
     "slide_type": "subslide"
    }
   },
   "outputs": [
    {
     "name": "stdout",
     "output_type": "stream",
     "text": [
      "Creating a Pinecone index...\n",
      "Done!\n"
     ]
    }
   ],
   "source": [
    "INDEX_NAME = 'squad-index'\n",
    "\n",
    "# Create the vector database\n",
    "pc = create_pinecone_index(INDEX_NAME, emb_shape[1])"
   ]
  },
  {
   "cell_type": "code",
   "execution_count": 12,
   "id": "f22e0176",
   "metadata": {
    "slideshow": {
     "slide_type": "slide"
    }
   },
   "outputs": [],
   "source": [
    "def upsert_vectors(\n",
    "        index: Pinecone,\n",
    "        embeddings: np.ndarray,\n",
    "        batch_size: int = 128\n",
    "):\n",
    "    \"\"\"\n",
    "    Upsert vectors to a pinecone index\n",
    "    Args:\n",
    "        index: The pinecone index object\n",
    "        embeddings: The embeddings to upsert\n",
    "        batch_size: The batch size to use for upserting\n",
    "    Returns:\n",
    "        An updated pinecone index\n",
    "    \"\"\"\n",
    "    print(\"Upserting the embeddings to the Pinecone index...\")\n",
    "    shape = embeddings.shape\n",
    "    \n",
    "    ids = [str(i) for i in range(shape[0])]\n",
    "    \n",
    "    # create list of (id, vector) tuples to be upserted\n",
    "    to_upsert = list(zip(ids, embeddings))\n",
    "\n",
    "    for i in tqdm(range(0, shape[0], batch_size)):\n",
    "        i_end = min(i + batch_size, shape[0])\n",
    "        index.upsert(vectors=to_upsert[i:i_end])\n",
    "    return index\n"
   ]
  },
  {
   "cell_type": "code",
   "execution_count": 14,
   "id": "ee8f4096",
   "metadata": {
    "slideshow": {
     "slide_type": "subslide"
    }
   },
   "outputs": [
    {
     "name": "stdout",
     "output_type": "stream",
     "text": [
      "Upserting the embeddings to the Pinecone index...\n"
     ]
    },
    {
     "name": "stderr",
     "output_type": "stream",
     "text": [
      "100%|██████████| 164/164 [15:20<00:00,  5.61s/it] \n"
     ]
    }
   ],
   "source": [
    "# Upsert the embeddings to the Pinecone index\n",
    "index = pc.Index(INDEX_NAME)\n",
    "index_upserted = upsert_vectors(index, document_embeddings, batch_size=128)"
   ]
  },
  {
   "cell_type": "code",
   "execution_count": 15,
   "id": "085fe0ef",
   "metadata": {
    "slideshow": {
     "slide_type": "fragment"
    }
   },
   "outputs": [
    {
     "data": {
      "text/plain": [
       "{'dimension': 384,\n",
       " 'index_fullness': 0.0,\n",
       " 'namespaces': {'': {'vector_count': 20958}},\n",
       " 'total_vector_count': 20958}"
      ]
     },
     "execution_count": 15,
     "metadata": {},
     "output_type": "execute_result"
    }
   ],
   "source": [
    "index.describe_index_stats()"
   ]
  },
  {
   "cell_type": "markdown",
   "id": "804a5f34",
   "metadata": {},
   "source": [
    "### 3 - LLM Without Retrieval"
   ]
  },
  {
   "cell_type": "markdown",
   "id": "6f6ba268",
   "metadata": {},
   "source": [
    "Try to find a few badly preforming examples with similarity to the real answer:"
   ]
  },
  {
   "cell_type": "code",
   "execution_count": 79,
   "id": "24c53763",
   "metadata": {},
   "outputs": [],
   "source": [
    "def cosine_similarity(a, b):\n",
    "    return np.dot(a, b.T) / (np.linalg.norm(a) * np.linalg.norm(b))"
   ]
  },
  {
   "cell_type": "code",
   "execution_count": null,
   "id": "75849cab",
   "metadata": {},
   "outputs": [],
   "source": [
    "results = {}\n",
    "\n",
    "for entry in [train_data[i] for i in range(20)]:\n",
    "    q = entry['question']\n",
    "    answer = entry['answers']['text'][0]\n",
    "    response = co.chat(model='command-r-plus', message=q).text\n",
    "\n",
    "    answer_emb = model.encode(answer)\n",
    "    response_emb = model.encode(response)\n",
    "    similarity = cosine_similarity(answer_emb, response_emb)\n",
    "\n",
    "    results[(q, answer, response)] = similarity\n",
    "    # print(similarity)"
   ]
  },
  {
   "cell_type": "markdown",
   "id": "a2e645f9",
   "metadata": {},
   "source": [
    "Demonstrate a few examples where the LLM preforms poorly:"
   ]
  },
  {
   "cell_type": "code",
   "execution_count": 52,
   "id": "a8ea3f2e",
   "metadata": {},
   "outputs": [
    {
     "name": "stdout",
     "output_type": "stream",
     "text": [
      "##################################################\n",
      "Question: The College of Science began to offer civil engineering courses beginning at what time at Notre Dame?\n",
      "Correct Answer: the 1870s\n",
      "Response: The College of Science at the University of Notre Dame began offering civil engineering courses in the fall of 2019. This expansion of the college's curriculum was part of a broader effort to enhance the university's engineering programs and provide students with a more diverse range of educational opportunities.\n",
      "The addition of civil engineering to the College of Science reflected the growing demand for professionals in this field and Notre Dame's commitment to meeting the evolving needs of its students and the job market. By offering courses in areas such as structural analysis, environmental engineering, and construction management, the college provided a solid foundation for those aspiring to pursue careers in civil engineering or related disciplines.\n",
      "Notre Dame's decision to include civil engineering in the College of Science curriculum also aligned with its tradition of combining scientific excellence with a holistic approach to education. Students not only gained technical knowledge but also developed problem-solving skills, critical thinking abilities, and a strong ethical framework, preparing them to tackle complex engineering challenges while contributing to the greater good.\n",
      "Over time, the civil engineering program at Notre Dame continued to evolve, with additional courses, research opportunities, and industry collaborations. This ensured that graduates were well-equipped to address the dynamic and diverse needs of civil engineering in the 21st century, whether it be designing sustainable infrastructure, managing complex construction projects, or developing innovative solutions to environmental issues.\n",
      "##################################################\n",
      "Question: How many departments are within the Stinson-Remick Hall of Engineering?\n",
      "Correct Answer: five\n",
      "Response: There are six departments within the Stinson-Remick Hall of Engineering: \n",
      "- Aerospace and Mechanical Engineering \n",
      "- Chemical and Biomolecular Engineering \n",
      "- Civil and Environmental Engineering and Earth Sciences \n",
      "- Computer Science and Engineering \n",
      "- Electrical Engineering \n",
      "- Materials Science and Engineering \n",
      "Would you like to know more about any of these departments?\n",
      "##################################################\n",
      "Question: How many student news papers are found at Notre Dame?\n",
      "Correct Answer: three\n",
      "Response: There are two student newspapers at the University of Notre Dame: \n",
      "1. The Observer: This is the main student newspaper on campus and is published daily during the academic year. It covers a wide range of topics, including news, sports, opinion, and entertainment. \n",
      "2. Irish Insider: This is a student-run sports newspaper that focuses specifically on Notre Dame athletics. It provides in-depth coverage of the university's sports teams and is published weekly during the school year. \n",
      "Both newspapers are valuable sources of information and showcase the talents and interests of Notre Dame students in journalism and sports writing.\n"
     ]
    }
   ],
   "source": [
    "worst_answers = sorted(results.items(), key=lambda x: x[1])[:3]\n",
    "\n",
    "for (q, answer, response), similarity in worst_answers:\n",
    "    print(\"#\" * 50)\n",
    "    print(f\"Question: {q}\")\n",
    "    print(f\"Correct Answer: {answer}\")\n",
    "    response = response.replace(\"\\n\\n\", \"\\n\")\n",
    "    print(f\"Response: {response}\")"
   ]
  },
  {
   "cell_type": "markdown",
   "id": "16a5f3bf",
   "metadata": {},
   "source": [
    "**Notice that in at least these 3 examples, out of 20 we ran, the LLM without additional context is wrong. We will look back at these examples after we add the RAG model.**"
   ]
  },
  {
   "cell_type": "markdown",
   "id": "6166170d",
   "metadata": {},
   "source": [
    "### 4 - RAG Pipeline"
   ]
  },
  {
   "cell_type": "code",
   "execution_count": 22,
   "id": "bb91e350",
   "metadata": {
    "slideshow": {
     "slide_type": "slide"
    }
   },
   "outputs": [],
   "source": [
    "def augment_prompt(\n",
    "        query: str,\n",
    "        model: SentenceTransformer = SentenceTransformer('all-MiniLM-L6-v2'),\n",
    "        index=None,\n",
    "        k: int = 3\n",
    ") -> str:\n",
    "    \"\"\"\n",
    "    Augment the prompt with the top k results from the knowledge base\n",
    "    Args:\n",
    "        query: The query to augment\n",
    "        model: The sentence transformer model\n",
    "        index: The vectorstore object\n",
    "        k: The number of results to include in the prompt\n",
    "    Returns:\n",
    "        str: The augmented prompt\n",
    "    \"\"\"\n",
    "    results = [float(val) for val in list(model.encode(query))]\n",
    "    \n",
    "    # get top k results from knowledge base:\n",
    "    query_results = index.query(\n",
    "        vector=results,\n",
    "        top_k=k,\n",
    "        include_values=True,\n",
    "        include_metadata=True\n",
    "    )['matches']\n",
    "\n",
    "    # find the texts that correspond to the top k results:\n",
    "    id_matches = [match['id'] for match in query_results]\n",
    "    text_matches = [documents[int(match_id)] for match_id in id_matches]\n",
    "    source_knowledge = \"\\n\\n\".join(text_matches)\n",
    "    \n",
    "    # feed into an augmented prompt:\n",
    "    augmented_prompt = f\"\"\"Using the contexts below, answer the query.\n",
    "    Contexts:\n",
    "    {source_knowledge}\n",
    "    If the answer is not included in the source knowledge - say that you don't know.\n",
    "    Query: {query}\"\"\"\n",
    "    \n",
    "    return augmented_prompt, source_knowledge"
   ]
  },
  {
   "cell_type": "code",
   "execution_count": 55,
   "id": "a8d51308",
   "metadata": {},
   "outputs": [
    {
     "name": "stdout",
     "output_type": "stream",
     "text": [
      "##################################################\n",
      "Question: The College of Science began to offer civil engineering courses beginning at what time at Notre Dame?\n",
      "Correct Answer: the 1870s\n",
      "New Response: The College of Science at Notre Dame began offering early courses in civil and mechanical engineering in the 1870s.\n",
      "Source Knowledge: The College of Engineering was established in 1920, however, early courses in civil and mechanical engineering were a part of the College of Science since the 1870s. Today the college, housed in the Fitzpatrick, Cushing, and Stinson-Remick Halls of Engineering, includes five departments of study – aerospace and mechanical engineering, chemical and biomolecular engineering, civil engineering and geological sciences, computer science and engineering, and electrical engineering – with eight B.S. de...\n",
      "##################################################\n",
      "Question: How many departments are within the Stinson-Remick Hall of Engineering?\n",
      "Correct Answer: five\n",
      "New Response: There are five departments of study within the College of Engineering, which is housed in the Fitzpatrick, Cushing, and Stinson-Remick Halls of Engineering.\n",
      "Source Knowledge: The College of Engineering was established in 1920, however, early courses in civil and mechanical engineering were a part of the College of Science since the 1870s. Today the college, housed in the Fitzpatrick, Cushing, and Stinson-Remick Halls of Engineering, includes five departments of study – aerospace and mechanical engineering, chemical and biomolecular engineering, civil engineering and geological sciences, computer science and engineering, and electrical engineering – with eight B.S. de...\n",
      "##################################################\n",
      "Question: How many student news papers are found at Notre Dame?\n",
      "Correct Answer: three\n",
      "New Response: There are three student newspapers at Notre Dame: The Observer, Common Sense, and Irish Rover.\n",
      "Source Knowledge: As at most other universities, Notre Dame's students run a number of news media outlets. The nine student-run outlets include three newspapers, both a radio and television station, and several magazines and journals. Begun as a one-page journal in September 1876, the Scholastic magazine is issued twice monthly and claims to be the oldest continuous collegiate publication in the United States. The other magazine, The Juggler, is released twice a year and focuses on student literature and artwork....\n"
     ]
    }
   ],
   "source": [
    "for (q, answer, prev_response), _ in worst_answers:\n",
    "    augmented_prompt, source_knowledge = augment_prompt(q, model=model, index=index)\n",
    "    response = co.chat(model='command-r-plus', message=augmented_prompt).text\n",
    "    response = response.replace(\"\\n\\n\", \"\\n\")\n",
    "\n",
    "    print(\"#\" * 50)\n",
    "    print(f\"Question: {q}\")\n",
    "    print(f\"Correct Answer: {answer}\")\n",
    "    print(f\"New Response: {response}\")\n",
    "    print(f\"Source Knowledge: {source_knowledge[:500]}...\")"
   ]
  },
  {
   "cell_type": "markdown",
   "id": "b79ccd98",
   "metadata": {},
   "source": [
    "**Successfully, in all examples the RAG model was able to provide the correct answer to questions that the LLM model failed to answer correctly.**"
   ]
  },
  {
   "cell_type": "markdown",
   "id": "83477319",
   "metadata": {},
   "source": [
    "### 5 - Insights"
   ]
  },
  {
   "cell_type": "code",
   "execution_count": 92,
   "id": "c18e7f75",
   "metadata": {},
   "outputs": [
    {
     "name": "stderr",
     "output_type": "stream",
     "text": [
      "100%|██████████| 50/50 [03:43<00:00,  4.47s/it]\n"
     ]
    }
   ],
   "source": [
    "time_llm = []\n",
    "time_rag = []\n",
    "\n",
    "similarity_llm = []\n",
    "similarity_rag = []\n",
    "\n",
    "### Evaluate the first 50 entries in the training data anecdotally:\n",
    "for entry in tqdm([train_data[i] for i in range(50)]):\n",
    "    q = entry['question']\n",
    "    answer = entry['answers']['text'][0]\n",
    "\n",
    "    start = time.time()\n",
    "    llm_response = co.chat(model='command-r-plus', message=q).text\n",
    "    time_llm.append(time.time() - start)\n",
    "\n",
    "    start = time.time()\n",
    "    augmented_prompt, source_knowledge = augment_prompt(q, model=model, index=index)\n",
    "    rag_response = co.chat(model='command-r-plus', message=augmented_prompt).text\n",
    "    time_rag.append(time.time() - start)\n",
    "\n",
    "    answer_emb = model.encode(answer)\n",
    "    llm_response_emb = model.encode(llm_response)\n",
    "    rag_response_emb = model.encode(rag_response)\n",
    "\n",
    "    similarity_llm.append(cosine_similarity(answer_emb, llm_response_emb))\n",
    "    similarity_rag.append(cosine_similarity(answer_emb, rag_response_emb))"
   ]
  },
  {
   "cell_type": "code",
   "execution_count": 123,
   "id": "4efdccb2",
   "metadata": {},
   "outputs": [
    {
     "data": {
      "text/plain": [
       "Text(0, 0.5, 'Mean Run-Time (s)')"
      ]
     },
     "execution_count": 123,
     "metadata": {},
     "output_type": "execute_result"
    },
    {
     "data": {
      "image/png": "[encoded data removed]",
      "text/plain": [
       "<Figure size 1200x600 with 2 Axes>"
      ]
     },
     "metadata": {},
     "output_type": "display_data"
    }
   ],
   "source": [
    "fig, ax = plt.subplots(1, 2, figsize=(12, 6))\n",
    "\n",
    "ax[0].title.set_text(\"Mean Cosine Similarity to Answer for Simple LLM vs. RAG\")\n",
    "ax[0].bar([\"Simple LLM\", \"RAG\"], [np.mean(similarity_llm), np.mean(similarity_rag)], color=['C0', 'C1'], alpha=0.7)\n",
    "ax[0].set_ylabel(\"Mean Cosine Similarity\")\n",
    "\n",
    "ax[1].title.set_text(\"Run-Time for Simple LLM vs. RAG\")\n",
    "ax[1].bar([\"Simple LLM\", \"RAG\"], [np.mean(time_llm), np.mean(time_rag)], color=['C0', 'C1'], alpha=0.7)\n",
    "ax[1].set_ylabel(\"Mean Run-Time (s)\")\n"
   ]
  },
  {
   "cell_type": "code",
   "execution_count": 117,
   "id": "dabe6df5",
   "metadata": {},
   "outputs": [
    {
     "data": {
      "image/png": "[encoded data removed]",
      "text/plain": [
       "<Figure size 1200x600 with 2 Axes>"
      ]
     },
     "metadata": {},
     "output_type": "display_data"
    }
   ],
   "source": [
    "fig, ax = plt.subplots(1, 2, figsize=(12, 6))\n",
    "\n",
    "ax[0].title.set_text(\"Mean Cosine Similarity to Answer for Simple LLM vs. RAG\")\n",
    "ax[0].hist([similarity_llm, similarity_rag], bins=10, label=[\"Simple LLM\", \"RAG\"], alpha=0.7)\n",
    "ax[0].set_ylabel(\"Number of questions\")\n",
    "\n",
    "ax[1].title.set_text(\"Run-Time for Simple LLM vs. RAG\")\n",
    "ax[1].hist([time_llm, time_rag], bins=5, label=[\"Simple LLM\", \"RAG\"], alpha=0.7)\n",
    "ax[1].set_ylabel(\"Number of questions\")\n",
    "plt.show()\n"
   ]
  }
 ],
 "metadata": {
  "celltoolbar": "Slideshow",
  "kernelspec": {
   "display_name": "Python 3 (ipykernel)",
   "language": "python",
   "name": "python3"
  },
  "language_info": {
   "codemirror_mode": {
    "name": "ipython",
    "version": 3
   },
   "file_extension": ".py",
   "mimetype": "text/x-python",
   "name": "python",
   "nbconvert_exporter": "python",
   "pygments_lexer": "ipython3",
   "version": "3.12.2"
  }
 },
 "nbformat": 4,
 "nbformat_minor": 5
}
