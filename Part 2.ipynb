{
 "cells": [
  {
   "cell_type": "code",
   "execution_count": 2,
   "id": "initial_id",
   "metadata": {
    "ExecuteTime": {
     "end_time": "2024-06-10T21:00:36.522780Z",
     "start_time": "2024-06-10T21:00:35.443137Z"
    }
   },
   "outputs": [],
   "source": [
    "import numpy as np\n",
    "from scipy import spatial \n",
    "import faiss\n",
    "from time import time\n",
    "import matplotlib.pyplot as plt\n",
    "from collections import defaultdict"
   ]
  },
  {
   "cell_type": "markdown",
   "id": "62f09c59a02a3b0d",
   "metadata": {},
   "source": [
    "## Helper Function"
   ]
  },
  {
   "cell_type": "code",
   "execution_count": 3,
   "id": "5a991f1eb012a476",
   "metadata": {
    "ExecuteTime": {
     "end_time": "2024-06-10T21:00:44.538572Z",
     "start_time": "2024-06-10T21:00:44.525608Z"
    }
   },
   "outputs": [],
   "source": [
    "def semi_optimized_exhaustive_search(\n",
    "        index_vectors: np.ndarray,\n",
    "        query_vectors: np.ndarray,\n",
    "        k: int,\n",
    "):\n",
    "    \"\"\"\n",
    "    This function performs an optimized exhaustive search.\n",
    "    Args:\n",
    "        index_vectors: An array of shape (n_index, dim) containing the index vectors.\n",
    "        query_vectors: An array of shape (n_queries, dim) containing the query vectors. \n",
    "        dim: The dimensionality of the vectors.\n",
    "    Returns:\n",
    "        An array of shape (n_queries, k) containing the indices of the k nearest neighbors for each query vector.\n",
    "    \"\"\"\n",
    "    ann_lists = []\n",
    "    for query_vec in query_vectors:\n",
    "        distances = np.linalg.norm(index_vectors - query_vec, axis=1)\n",
    "        ann_lists.append(list(np.argsort(distances)[:k]))\n",
    "    return np.array(ann_lists)"
   ]
  },
  {
   "cell_type": "code",
   "execution_count": 4,
   "id": "a8ef475c717fbe2e",
   "metadata": {
    "ExecuteTime": {
     "end_time": "2024-06-10T21:00:47.719310Z",
     "start_time": "2024-06-10T21:00:47.698362Z"
    }
   },
   "outputs": [],
   "source": [
    "def build_faiss_flatl2_index(\n",
    "        index_vectors: np.ndarray,\n",
    "        dim: int,\n",
    "):\n",
    "    \"\"\"\n",
    "    This function builds a Faiss flat L2 index.\n",
    "    Args:\n",
    "        index_vectors: An array of shape (n_index, dim) containing the index vectors.\n",
    "        dim: The dimensionality of the vectors. \n",
    "    Returns:\n",
    "        A Faiss flat L2 index.\n",
    "    \"\"\"\n",
    "    index = faiss.IndexFlatL2(dim)\n",
    "    index.add(index_vectors)\n",
    "    return index"
   ]
  },
  {
   "cell_type": "code",
   "execution_count": 5,
   "id": "1df7a2d698755a82",
   "metadata": {
    "ExecuteTime": {
     "end_time": "2024-06-10T21:00:48.174553Z",
     "start_time": "2024-06-10T21:00:48.157599Z"
    }
   },
   "outputs": [],
   "source": [
    "def faiss_search(\n",
    "        query_vectors: np.ndarray,\n",
    "        index: faiss.Index,\n",
    "        k: int,\n",
    "):\n",
    "    \"\"\"\n",
    "    This function uses a Faiss index to search for the k-nearest neighbors of query_vectors.\n",
    "    Args:\n",
    "        query_vectors: An array of shape (n_queries, dim) containing the query vectors. \n",
    "        index: A Faiss index.\n",
    "        k: The number of nearest neighbors to retrieve.\n",
    "    Returns:\n",
    "        An array of shape (, ) containing the indices of the k-nearest neighbors for each query vector.\n",
    "    \"\"\"\n",
    "    distances, indices = index.search(query_vectors, k)\n",
    "    return indices"
   ]
  },
  {
   "cell_type": "code",
   "execution_count": 6,
   "id": "af14bea64023a3d4",
   "metadata": {
    "ExecuteTime": {
     "end_time": "2024-06-10T21:00:49.337476Z",
     "start_time": "2024-06-10T21:00:49.325508Z"
    }
   },
   "outputs": [],
   "source": [
    "def build_faiss_lsh_index(\n",
    "        index_vectors: np.ndarray,\n",
    "        dim: int,\n",
    "        nbits: int,\n",
    "):\n",
    "    \"\"\"\n",
    "    This function builds a Faiss LSH index.\n",
    "    Args:\n",
    "        index_vectors: An array of shape (n_index, dim) containing the index vectors.\n",
    "        dim: The dimensionality of the vectors. \n",
    "        nbits: The number of bits to use in the hash.\n",
    "    Returns:\n",
    "        A Faiss LSH index.\n",
    "    \"\"\"\n",
    "    index = faiss.IndexLSH(dim, nbits)\n",
    "    index.add(index_vectors)\n",
    "    return index"
   ]
  },
  {
   "cell_type": "code",
   "execution_count": 7,
   "id": "b4b0932dfa7d7a4c",
   "metadata": {
    "ExecuteTime": {
     "end_time": "2024-06-10T21:00:49.732824Z",
     "start_time": "2024-06-10T21:00:49.718871Z"
    }
   },
   "outputs": [],
   "source": [
    "def compute_recall_at_k(\n",
    "        nn_gt: np.ndarray,\n",
    "        ann: np.ndarray,\n",
    "        k: int,\n",
    "):\n",
    "    \"\"\"\n",
    "    This function computes the recall@k.\n",
    "    Args:\n",
    "        nn_gt: The ground truth nearest neighbors.\n",
    "        ann: The approximate nearest neighbors.\n",
    "        k: The number of nearest neighbors to consider.\n",
    "    Returns:\n",
    "        The recall@k.\n",
    "    \"\"\"\n",
    "    return round(sum([len(set(ann[i]) & set(nn_gt[i])) / k for i in range(len(ann))])/len(ann), 3)"
   ]
  },
  {
   "cell_type": "markdown",
   "id": "77d4be2e90ed842",
   "metadata": {},
   "source": [
    "# 2.1 -- LSH vs Naive Exhaustive Search (Regular Index Vectors)\n",
    "### You just have to run the following cells and add the following results to the report:\n",
    "* running time of the ground truth computation with semi_optimized_exhaustive_search (wall time)\n",
    "* running time of creating faiss_lsh_index (wall time)\n",
    "* running time of faiss_search over query_vectors with faiss_lsh_index (wall time)\n",
    "* recall@10 for faiss_lsh_ann"
   ]
  },
  {
   "cell_type": "code",
   "execution_count": 4,
   "id": "b4fdbd7671405821",
   "metadata": {
    "ExecuteTime": {
     "end_time": "2024-06-10T21:00:52.378174Z",
     "start_time": "2024-06-10T21:00:52.351252Z"
    }
   },
   "outputs": [],
   "source": [
    "query_vectors = np.load('data/query_vectors.npy')\n",
    "index_vectors = np.load('data/index_vectors.npy')\n",
    "k=10\n",
    "dim = index_vectors.shape[1]"
   ]
  },
  {
   "cell_type": "code",
   "execution_count": 12,
   "id": "65ff74d429524ffc",
   "metadata": {
    "ExecuteTime": {
     "end_time": "2024-06-10T21:18:41.035362Z",
     "start_time": "2024-06-10T21:18:41.017409Z"
    }
   },
   "outputs": [
    {
     "name": "stdout",
     "output_type": "stream",
     "text": [
      "Exhaustive search took 4.06 seconds.\n"
     ]
    }
   ],
   "source": [
    "start = time()\n",
    "gt_nn = semi_optimized_exhaustive_search(index_vectors, query_vectors, k)\n",
    "print(f\"Exhaustive search took {time() - start:.2f} seconds.\")"
   ]
  },
  {
   "cell_type": "code",
   "execution_count": 9,
   "id": "bd448cbdb96b1ba0",
   "metadata": {
    "ExecuteTime": {
     "end_time": "2024-06-10T21:18:36.008226Z",
     "start_time": "2024-06-10T21:18:35.998251Z"
    }
   },
   "outputs": [
    {
     "name": "stdout",
     "output_type": "stream",
     "text": [
      "Building the LSH index took 0.62 seconds.\n"
     ]
    }
   ],
   "source": [
    "start = time()\n",
    "faiss_lsh_index = build_faiss_lsh_index(index_vectors, dim, nbits=2000)\n",
    "print(f\"Building the LSH index took {time() - start:.2f} seconds.\")"
   ]
  },
  {
   "cell_type": "code",
   "execution_count": 10,
   "id": "b0a321e6b7406267",
   "metadata": {
    "ExecuteTime": {
     "end_time": "2024-06-10T21:18:32.391344Z",
     "start_time": "2024-06-10T21:18:32.385337Z"
    }
   },
   "outputs": [
    {
     "name": "stdout",
     "output_type": "stream",
     "text": [
      "LSH search over query vectors took 0.13 seconds.\n"
     ]
    }
   ],
   "source": [
    "start = time()\n",
    "faiss_lsh_ann = faiss_search(query_vectors, faiss_lsh_index, k)\n",
    "print(f\"LSH search over query vectors took {time() - start:.2f} seconds.\")"
   ]
  },
  {
   "cell_type": "code",
   "execution_count": 11,
   "id": "e5554595c4d77a27",
   "metadata": {
    "ExecuteTime": {
     "end_time": "2024-06-10T21:18:26.322703Z",
     "start_time": "2024-06-10T21:18:26.233820Z"
    }
   },
   "outputs": [
    {
     "name": "stdout",
     "output_type": "stream",
     "text": [
      "recall@10 for faiss_lsh_index: 0.138\n"
     ]
    }
   ],
   "source": [
    "print(f\"recall@10 for faiss_lsh_index: {compute_recall_at_k(gt_nn, faiss_lsh_ann, k)}\")"
   ]
  },
  {
   "cell_type": "code",
   "execution_count": 13,
   "id": "b22f6803",
   "metadata": {},
   "outputs": [
    {
     "name": "stdout",
     "output_type": "stream",
     "text": [
      "HNSW search over query vectors took 0.01 seconds.\n",
      "recall@10 for faiss_hnsw_index: 0.859\n"
     ]
    }
   ],
   "source": [
    "index_hnsw = faiss.IndexHNSWFlat(dim, 32)\n",
    "index_hnsw.add(index_vectors)\n",
    "\n",
    "start = time()\n",
    "faiss_hnsw_ann = faiss_search(query_vectors, index_hnsw, k)\n",
    "print(f\"HNSW search over query vectors took {time() - start:.2f} seconds.\")\n",
    "\n",
    "print(f\"recall@10 for faiss_hnsw_index: {compute_recall_at_k(gt_nn, faiss_hnsw_ann, k)}\")"
   ]
  },
  {
   "cell_type": "markdown",
   "id": "ad5ca983b3a893e5",
   "metadata": {},
   "source": [
    "# 2.2 -- Custom Indexing Algorithm\n",
    "Build an indexing algorithm that satisfies the following requirements:\n",
    "* The indexing algorithm should be able to handle vectors of different dimensions\n",
    "* The running time of the indexing should be less than half of the running time of semi_optimized_exhaustive_search), reported in Section 2.1.\n",
    "* The running time of searching over the index should be less than a third (1/3) of the time of the semi_optimized_exhaustive_search function, reported in Section 2.1.\n",
    "* The performance (in terms of recall@10) of the indexing algorithm should be at least 0.8.\n",
    "\n",
    "The last three bullets should also appear in the report.\n",
    "You are allowed to add as many helper functions as you need. You cannot use faiss of scipy libraries for this task. Numpy is allowed. \n",
    "\n",
    "You can also test your algorithm with the additional two query-index sets by replacing the calls made few cells ago to:\n",
    "\n",
    "    query_vectors = np.load('data/query_vectors2.npy')\n",
    "    index_vectors = np.load('data/index_vectors2.npy')\n",
    "or:\n",
    "\n",
    "    query_vectors = np.load('data/query_vectors3.npy')\n",
    "    index_vectors = np.load('data/index_vectors3.npy')\n",
    "    \n",
    "the aforementioned requirements should also be satisfied over these two query-index sets. No need to insert the results over these two to the report."
   ]
  },
  {
   "cell_type": "code",
   "execution_count": 21,
   "id": "dccc52a8",
   "metadata": {},
   "outputs": [],
   "source": [
    "query_vectors2 = np.load('data/query_vectors2.npy')\n",
    "index_vectors2 = np.load('data/index_vectors2.npy')\n",
    "\n",
    "query_vectors3 = np.load('data/query_vectors3.npy')\n",
    "index_vectors3 = np.load('data/index_vectors3.npy')"
   ]
  },
  {
   "cell_type": "markdown",
   "id": "3cc86afc",
   "metadata": {},
   "source": [
    "### Answers:"
   ]
  },
  {
   "cell_type": "code",
   "execution_count": 1,
   "id": "463bc5f7",
   "metadata": {},
   "outputs": [],
   "source": [
    "import numpy as np\n",
    "from heapq import heappush, heappop\n",
    "from collections import defaultdict"
   ]
  },
  {
   "cell_type": "code",
   "execution_count": 11,
   "id": "b1e0270f",
   "metadata": {},
   "outputs": [],
   "source": [
    "class HNSW_Node:\n",
    "    def __init__(self, vector, level):\n",
    "        self.vector = vector\n",
    "        self.level = level\n",
    "        self.neighbors = defaultdict(list)"
   ]
  },
  {
   "cell_type": "code",
   "execution_count": 17,
   "id": "d70a537a",
   "metadata": {},
   "outputs": [],
   "source": [
    "class HNSW_Index:\n",
    "    def __init__(self, dimension, max_level, num_neigh):\n",
    "        self.dimension = dimension\n",
    "        self.max_level = max_level\n",
    "        self.num_neigh = num_neigh\n",
    "        self.nodes = []\n",
    "        self.start_node = None\n",
    "\n",
    "    def distance(self, v1, v2):\n",
    "        return np.linalg.norm(v1 - v2) # Euclidean distance\n",
    "\n",
    "    def add_single(self, vector):\n",
    "        new_node = HNSW_Node(vector, np.random.randint(0, self.max_level)) # random level for the new node\n",
    "\n",
    "        if not self.nodes: # if the index is empty\n",
    "            self.entry_point = new_node\n",
    "            self.nodes.append(new_node)\n",
    "        \n",
    "        else:\n",
    "            entry_point = self.entry_point\n",
    "            for level in range(self.max_level, new_node.level, -1): # from highest to node level\n",
    "                print(entry_point.neighbors[level])\n",
    "                entry_point = min(entry_point.neighbors[level], key=lambda n: self.distance(vector, n.vector))\n",
    "\n",
    "            for level in range(min(new_node.level, self.max_level)):\n",
    "                candidates = self.search_layer(vector, entry_point, level, self.num_neigh)\n",
    "                for candidate in candidates:\n",
    "                    candidate.neighbors[level].append(new_node)\n",
    "                    new_node.neighbors[level].append(candidate)\n",
    "\n",
    "            self.nodes.append(new_node)\n",
    "            if new_node.level > self.entry_point.level:\n",
    "                self.entry_point = new_node\n",
    "\n",
    "    def add(self, vectors):\n",
    "        for vector in vectors:\n",
    "            self.add_single(vector)\n",
    "\n",
    "    def search_layer(self, query, entry_point, level, entry_factor):\n",
    "        \"\"\" \n",
    "        Search for the nearest neighbors in the specified layer using the entry_point as the starting node.\n",
    "        \"\"\"\n",
    "        visited = set()\n",
    "        candidates = []\n",
    "        best_candidates = []\n",
    "\n",
    "        # init heap with (entry point, dist to query):\n",
    "        heappush(candidates, (self.distance(query, entry_point.vector), entry_point))\n",
    "        \n",
    "        while candidates:\n",
    "            dist, current_node = heappop(candidates)\n",
    "            if current_node in visited:\n",
    "                continue\n",
    "            visited.add(current_node)\n",
    "\n",
    "            if len(best_candidates) < entry_factor or dist < best_candidates[0][0]:\n",
    "                heappush(best_candidates, (-dist, current_node))\n",
    "\n",
    "                # keep the best_candidates list of size entry_factor:\n",
    "                if len(best_candidates) > entry_factor:\n",
    "                    heappop(best_candidates)\n",
    "\n",
    "                for neighbor in current_node.neighbors[level]:\n",
    "                    if neighbor not in visited:\n",
    "                        heappush(candidates, (self.distance(query, neighbor.vector), neighbor))\n",
    "\n",
    "        return [node for _, node in best_candidates]\n",
    "\n",
    "    def search(self, query, k):\n",
    "        entry_factor = max(k, self.ef_construction)\n",
    "        entry_point = self.entry_point\n",
    "\n",
    "        for level in range(self.max_level, 0, -1):\n",
    "            entry_point = min(entry_point.neighbors[level], key=lambda n: self.distance(query, n.vector))\n",
    "\n",
    "        candidates = self.search_layer(query, entry_point, 0, entry_factor)\n",
    "        return sorted(candidates, key=lambda n: self.distance(query, n.vector))[:k]"
   ]
  },
  {
   "cell_type": "code",
   "execution_count": 19,
   "id": "6ed0d20b",
   "metadata": {},
   "outputs": [
    {
     "name": "stdout",
     "output_type": "stream",
     "text": [
      "[]\n"
     ]
    },
    {
     "ename": "ValueError",
     "evalue": "min() iterable argument is empty",
     "output_type": "error",
     "traceback": [
      "\u001b[0;31m---------------------------------------------------------------------------\u001b[0m",
      "\u001b[0;31mValueError\u001b[0m                                Traceback (most recent call last)",
      "Cell \u001b[0;32mIn[19], line 4\u001b[0m\n\u001b[1;32m      1\u001b[0m hnsw \u001b[38;5;241m=\u001b[39m HNSW_Index(dimension\u001b[38;5;241m=\u001b[39m\u001b[38;5;241m128\u001b[39m, max_level\u001b[38;5;241m=\u001b[39m\u001b[38;5;241m16\u001b[39m, num_neigh\u001b[38;5;241m=\u001b[39m\u001b[38;5;241m200\u001b[39m)\n\u001b[1;32m      3\u001b[0m \u001b[38;5;66;03m# Add index vectors to the graph\u001b[39;00m\n\u001b[0;32m----> 4\u001b[0m \u001b[43mhnsw\u001b[49m\u001b[38;5;241;43m.\u001b[39;49m\u001b[43madd\u001b[49m\u001b[43m(\u001b[49m\u001b[43mindex_vectors\u001b[49m\u001b[43m)\u001b[49m\n",
      "Cell \u001b[0;32mIn[17], line 38\u001b[0m, in \u001b[0;36mHNSW_Index.add\u001b[0;34m(self, vectors)\u001b[0m\n\u001b[1;32m     36\u001b[0m \u001b[38;5;28;01mdef\u001b[39;00m \u001b[38;5;21madd\u001b[39m(\u001b[38;5;28mself\u001b[39m, vectors):\n\u001b[1;32m     37\u001b[0m     \u001b[38;5;28;01mfor\u001b[39;00m vector \u001b[38;5;129;01min\u001b[39;00m vectors:\n\u001b[0;32m---> 38\u001b[0m         \u001b[38;5;28;43mself\u001b[39;49m\u001b[38;5;241;43m.\u001b[39;49m\u001b[43madd_single\u001b[49m\u001b[43m(\u001b[49m\u001b[43mvector\u001b[49m\u001b[43m)\u001b[49m\n",
      "Cell \u001b[0;32mIn[17], line 23\u001b[0m, in \u001b[0;36mHNSW_Index.add_single\u001b[0;34m(self, vector)\u001b[0m\n\u001b[1;32m     21\u001b[0m \u001b[38;5;28;01mfor\u001b[39;00m level \u001b[38;5;129;01min\u001b[39;00m \u001b[38;5;28mrange\u001b[39m(\u001b[38;5;28mself\u001b[39m\u001b[38;5;241m.\u001b[39mmax_level, new_node\u001b[38;5;241m.\u001b[39mlevel, \u001b[38;5;241m-\u001b[39m\u001b[38;5;241m1\u001b[39m): \u001b[38;5;66;03m# from highest to node level\u001b[39;00m\n\u001b[1;32m     22\u001b[0m     \u001b[38;5;28mprint\u001b[39m(entry_point\u001b[38;5;241m.\u001b[39mneighbors[level])\n\u001b[0;32m---> 23\u001b[0m     entry_point \u001b[38;5;241m=\u001b[39m \u001b[38;5;28;43mmin\u001b[39;49m\u001b[43m(\u001b[49m\u001b[43mentry_point\u001b[49m\u001b[38;5;241;43m.\u001b[39;49m\u001b[43mneighbors\u001b[49m\u001b[43m[\u001b[49m\u001b[43mlevel\u001b[49m\u001b[43m]\u001b[49m\u001b[43m,\u001b[49m\u001b[43m \u001b[49m\u001b[43mkey\u001b[49m\u001b[38;5;241;43m=\u001b[39;49m\u001b[38;5;28;43;01mlambda\u001b[39;49;00m\u001b[43m \u001b[49m\u001b[43mn\u001b[49m\u001b[43m:\u001b[49m\u001b[43m \u001b[49m\u001b[38;5;28;43mself\u001b[39;49m\u001b[38;5;241;43m.\u001b[39;49m\u001b[43mdistance\u001b[49m\u001b[43m(\u001b[49m\u001b[43mvector\u001b[49m\u001b[43m,\u001b[49m\u001b[43m \u001b[49m\u001b[43mn\u001b[49m\u001b[38;5;241;43m.\u001b[39;49m\u001b[43mvector\u001b[49m\u001b[43m)\u001b[49m\u001b[43m)\u001b[49m\n\u001b[1;32m     25\u001b[0m \u001b[38;5;28;01mfor\u001b[39;00m level \u001b[38;5;129;01min\u001b[39;00m \u001b[38;5;28mrange\u001b[39m(\u001b[38;5;28mmin\u001b[39m(new_node\u001b[38;5;241m.\u001b[39mlevel, \u001b[38;5;28mself\u001b[39m\u001b[38;5;241m.\u001b[39mmax_level)):\n\u001b[1;32m     26\u001b[0m     candidates \u001b[38;5;241m=\u001b[39m \u001b[38;5;28mself\u001b[39m\u001b[38;5;241m.\u001b[39msearch_layer(vector, entry_point, level, \u001b[38;5;28mself\u001b[39m\u001b[38;5;241m.\u001b[39mnum_neigh)\n",
      "\u001b[0;31mValueError\u001b[0m: min() iterable argument is empty"
     ]
    }
   ],
   "source": [
    "hnsw = HNSW_Index(dimension=128, max_level=16, num_neigh=200)\n",
    "\n",
    "# Add index vectors to the graph\n",
    "hnsw.add(index_vectors)\n",
    "\n"
   ]
  },
  {
   "cell_type": "code",
   "execution_count": null,
   "id": "b8d39ceb",
   "metadata": {},
   "outputs": [],
   "source": [
    "# Search for the nearest neighbors of the query vectors\n",
    "ann = []\n",
    "for query in query_vectors:\n",
    "    ann.append([node.vector for node in hnsw.search(query, k)])\n",
    "\n",
    "print(f\"recall@10 for hnsw_index: {compute_recall_at_k(gt_nn, np.array(ann), k)}\")"
   ]
  },
  {
   "cell_type": "code",
   "execution_count": null,
   "id": "8421dc36363650c5",
   "metadata": {
    "ExecuteTime": {
     "end_time": "2024-05-27T12:25:32.578478400Z",
     "start_time": "2024-05-27T12:25:32.483352800Z"
    }
   },
   "outputs": [],
   "source": [
    "#TODO: Write your code for 2.2.2 here\n",
    "# You are allowed to add more arguments to the functions and create more functions if needed.\n",
    "\n",
    "def custom_indexing_algorithm(index_vectors, dim):\n",
    "    \"\"\"\n",
    "    This function builds an index from scratch.\n",
    "    Args:\n",
    "        index_vectors: An array of shape (n_index, dim) containing the index vectors.\n",
    "        dim: The dimensionality of the vectors.\n",
    "    Returns:\n",
    "        An index.\n",
    "    \"\"\"\n",
    "    return \n",
    "\n",
    "\n",
    "def custom_index_search(query_vectors, index, k):\n",
    "    \"\"\"\n",
    "    This function searches over the custom index.\n",
    "    Args:\n",
    "        query_vectors: An array of shape (n_queries, dim) containing the query vectors.\n",
    "        index: The custom index.\n",
    "        k: The number of nearest neighbors to retrieve.\n",
    "    \"\"\"\n",
    "    return\n",
    "    "
   ]
  },
  {
   "cell_type": "code",
   "execution_count": null,
   "id": "a50f4b92f2ec12fd",
   "metadata": {
    "ExecuteTime": {
     "end_time": "2024-06-10T21:00:22.662764Z",
     "start_time": "2024-06-10T21:00:22.650804Z"
    }
   },
   "outputs": [],
   "source": [
    "# Add hyperparameters here (if needed)"
   ]
  },
  {
   "cell_type": "code",
   "execution_count": null,
   "id": "ef371ecd242846db",
   "metadata": {},
   "outputs": [],
   "source": [
    "%%time\n",
    "custom_index = custom_indexing_algorithm(index_vectors, dim)"
   ]
  },
  {
   "cell_type": "code",
   "execution_count": null,
   "id": "1c40c61275a3d001",
   "metadata": {},
   "outputs": [],
   "source": [
    "%%time\n",
    "custom_index_ann = custom_index_search(query_vectors, custom_index, k)"
   ]
  },
  {
   "cell_type": "code",
   "execution_count": null,
   "id": "3ddba190c55cd0af",
   "metadata": {
    "ExecuteTime": {
     "end_time": "2024-05-27T13:30:57.922904800Z",
     "start_time": "2024-05-27T13:30:57.874785600Z"
    }
   },
   "outputs": [],
   "source": [
    "print(f\"recall@10 for custom_index_search: {compute_recall_at_k(gt_nn, custom_index_ann, k)}\")"
   ]
  },
  {
   "cell_type": "code",
   "execution_count": null,
   "id": "9707f4e593c385ac",
   "metadata": {
    "ExecuteTime": {
     "end_time": "2024-06-10T21:35:09.991891Z",
     "start_time": "2024-06-10T21:35:09.983920Z"
    }
   },
   "outputs": [],
   "source": []
  }
 ],
 "metadata": {
  "kernelspec": {
   "display_name": "Python 3 (ipykernel)",
   "language": "python",
   "name": "python3"
  },
  "language_info": {
   "codemirror_mode": {
    "name": "ipython",
    "version": 3
   },
   "file_extension": ".py",
   "mimetype": "text/x-python",
   "name": "python",
   "nbconvert_exporter": "python",
   "pygments_lexer": "ipython3",
   "version": "3.12.2"
  }
 },
 "nbformat": 4,
 "nbformat_minor": 5
}
